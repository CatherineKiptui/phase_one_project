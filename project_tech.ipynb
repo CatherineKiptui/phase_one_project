{
 "cells": [
  {
   "cell_type": "raw",
   "id": "37fdbd07-2b87-4f62-9d8f-6e2de44725df",
   "metadata": {},
   "source": [
    "    STEP 1 DATA UNDERSTANDING\n",
    "\n",
    "the data  used for this project was from the aviation department.it containedinformation on fatalities incurred whether fatal or non fatal for different states in the us and other countries.i chose to use the data for mexico.the data contained the following:\n",
    "sum of number by engine type\n",
    "sum of totalminor injuries by purpose of flight\n",
    "count of event by country.\n",
    "broad phase of th flight\n",
    "total uninjured\n",
    "aircraft damage.\n",
    "weather condition.\n",
    "purpose of flight\n",
    "total minor injuries\n",
    "total serious injuries\n",
    "report status\n",
    "\n",
    "\n",
    "\n",
    "\n"
   ]
  },
  {
   "cell_type": "code",
   "execution_count": 199,
   "id": "e1c7239e-9f55-4cf5-b9e5-e7399ca08d51",
   "metadata": {},
   "outputs": [],
   "source": [
    "#STEP 2:IMPORTTING THE NECCESSARY LIBRARIES"
   ]
  },
  {
   "cell_type": "code",
   "execution_count": 174,
   "id": "ee845790-1214-4aaa-9020-af508b77d444",
   "metadata": {},
   "outputs": [],
   "source": [
    "#import the neccessary libraries\n",
    "import pandas as pd\n",
    "import numpy as np\n",
    "import matplotlib.pyplot as plt\n",
    "import seaborn as sns"
   ]
  },
  {
   "cell_type": "code",
   "execution_count": null,
   "id": "cf1e8fa7-4934-48a2-a322-1e6e230d45e3",
   "metadata": {},
   "outputs": [],
   "source": [
    "#C:\\Users\\ADMIN\\Desktop\\end of phase tech"
   ]
  },
  {
   "cell_type": "code",
   "execution_count": null,
   "id": "43ac5cf0-bd76-4c25-91e9-de95e2d37d22",
   "metadata": {},
   "outputs": [],
   "source": []
  },
  {
   "cell_type": "code",
   "execution_count": 176,
   "id": "825a9d8b-45bf-401c-927a-0a7fbf3f422b",
   "metadata": {},
   "outputs": [
    {
     "name": "stdout",
     "output_type": "stream",
     "text": [
      "         Event.Id Investigation.Type Accident.Number  Event.Date  \\\n",
      "0  20001218X45444           Accident      SEA87LA080  1948-10-24   \n",
      "1  20001218X45447           Accident      LAX94LA336  1962-07-19   \n",
      "2  20061025X01555           Accident      NYC07LA005  1974-08-30   \n",
      "3  20001218X45448           Accident      LAX96LA321  1977-06-19   \n",
      "4  20041105X01764           Accident      CHI79FA064  1979-08-02   \n",
      "\n",
      "          Location        Country   Latitude  Longitude Airport.Code  \\\n",
      "0  MOOSE CREEK, ID  United States        NaN        NaN          NaN   \n",
      "1   BRIDGEPORT, CA  United States        NaN        NaN          NaN   \n",
      "2    Saltville, VA  United States  36.922223 -81.878056          NaN   \n",
      "3       EUREKA, CA  United States        NaN        NaN          NaN   \n",
      "4       Canton, OH  United States        NaN        NaN          NaN   \n",
      "\n",
      "  Airport.Name  ... Purpose.of.flight Air.carrier Total.Fatal.Injuries  \\\n",
      "0          NaN  ...          Personal         NaN                  2.0   \n",
      "1          NaN  ...          Personal         NaN                  4.0   \n",
      "2          NaN  ...          Personal         NaN                  3.0   \n",
      "3          NaN  ...          Personal         NaN                  2.0   \n",
      "4          NaN  ...          Personal         NaN                  1.0   \n",
      "\n",
      "  Total.Serious.Injuries Total.Minor.Injuries Total.Uninjured  \\\n",
      "0                    0.0                  0.0             0.0   \n",
      "1                    0.0                  0.0             0.0   \n",
      "2                    NaN                  NaN             NaN   \n",
      "3                    0.0                  0.0             0.0   \n",
      "4                    2.0                  NaN             0.0   \n",
      "\n",
      "  Weather.Condition  Broad.phase.of.flight   Report.Status Publication.Date  \n",
      "0               UNK                 Cruise  Probable Cause              NaN  \n",
      "1               UNK                Unknown  Probable Cause       19-09-1996  \n",
      "2               IMC                 Cruise  Probable Cause       26-02-2007  \n",
      "3               IMC                 Cruise  Probable Cause       12-09-2000  \n",
      "4               VMC               Approach  Probable Cause       16-04-1980  \n",
      "\n",
      "[5 rows x 31 columns]\n"
     ]
    },
    {
     "name": "stderr",
     "output_type": "stream",
     "text": [
      "C:\\Users\\ADMIN\\AppData\\Local\\Temp\\ipykernel_4580\\3006033605.py:5: DtypeWarning: Columns (6,7,28) have mixed types. Specify dtype option on import or set low_memory=False.\n",
      "  df = pd.read_csv(file_path, encoding='latin-1')\n"
     ]
    }
   ],
   "source": [
    "\n",
    "\n",
    "# Correct file path using raw string or escaped backslashes\n",
    "file_path = r\"C:\\Users\\ADMIN\\Desktop\\end of phase tech\\AviationData.csv\"\n",
    "\n",
    "# Read the CSV file with latin-1 encoding into a DataFrame\n",
    "df = pd.read_csv(file_path, encoding='latin-1')\n",
    "\n",
    "# Print the first few rows of the DataFrame\n",
    "print(df.head())\n"
   ]
  },
  {
   "cell_type": "code",
   "execution_count": null,
   "id": "2a8dba74-28d5-4ddb-87ba-7bf913865e3f",
   "metadata": {},
   "outputs": [],
   "source": []
  },
  {
   "cell_type": "code",
   "execution_count": null,
   "id": "7c356e71-511c-44f8-ba71-f389395df9b4",
   "metadata": {},
   "outputs": [],
   "source": []
  },
  {
   "cell_type": "code",
   "execution_count": null,
   "id": "be3e88bb-9114-44da-b0b5-a483326da556",
   "metadata": {},
   "outputs": [],
   "source": [
    "df.info()"
   ]
  },
  {
   "cell_type": "markdown",
   "id": "c57a4f73-0955-4e6f-8ad7-89f26383a21a",
   "metadata": {},
   "source": [
    "# CHOOSING THE DATA TYPE TO WORK WITH"
   ]
  },
  {
   "cell_type": "markdown",
   "id": "3f546eb6-5b18-4c5b-9bb2-6a26039f3c72",
   "metadata": {},
   "source": [
    "the data is  voluminous ad for this project i chose to work with Mexico data"
   ]
  },
  {
   "cell_type": "code",
   "execution_count": null,
   "id": "d26d8f14-9611-44c4-8ac6-522f7f304b91",
   "metadata": {},
   "outputs": [],
   "source": [
    "#2.1extracting mexico data from aviationData,called df1"
   ]
  },
  {
   "cell_type": "code",
   "execution_count": 178,
   "id": "89cf30c9-5588-4c05-94a9-54833b672995",
   "metadata": {},
   "outputs": [
    {
     "name": "stdout",
     "output_type": "stream",
     "text": [
      "             Event.Id Investigation.Type Accident.Number  Event.Date  \\\n",
      "11207  20001214X35906           Incident      FTW85IA168  1985-03-29   \n",
      "16837  20001213X30244           Accident      FTW87RA066  1987-02-14   \n",
      "16866  20001213X30245           Accident      FTW87WA070  1987-02-20   \n",
      "17578  20001213X30977           Accident      LAX87WA216  1987-05-23   \n",
      "19110  20001213X32507           Incident      DCA88RA002  1987-11-07   \n",
      "\n",
      "                      Location Country Latitude Longitude Airport.Code  \\\n",
      "11207      MEXICO CITY, Mexico  Mexico      NaN       NaN          DFW   \n",
      "16837          DURANGO, Mexico  Mexico      NaN       NaN          NaN   \n",
      "16866  LA UNION MORALE, Mexico  Mexico      NaN       NaN          NaN   \n",
      "17578         MEXICALI, MEXICO  Mexico      NaN       NaN          NaN   \n",
      "19110          TIJUANA, Mexico  Mexico      NaN       NaN          NaN   \n",
      "\n",
      "      Airport.Name  ... Purpose.of.flight Air.carrier Total.Fatal.Injuries  \\\n",
      "11207          DFW  ...           Unknown         NaN                  0.0   \n",
      "16837          NaN  ...           Unknown         NaN                  1.0   \n",
      "16866          NaN  ...          Personal         NaN                  3.0   \n",
      "17578          NaN  ...          Personal         NaN                  0.0   \n",
      "19110          NaN  ...           Unknown         NaN                  NaN   \n",
      "\n",
      "      Total.Serious.Injuries Total.Minor.Injuries Total.Uninjured  \\\n",
      "11207                    0.0                  0.0           152.0   \n",
      "16837                    NaN                  3.0           131.0   \n",
      "16866                    0.0                  0.0             0.0   \n",
      "17578                    0.0                  2.0             0.0   \n",
      "19110                    NaN                  NaN             NaN   \n",
      "\n",
      "      Weather.Condition  Broad.phase.of.flight   Report.Status  \\\n",
      "11207               VMC                Takeoff  Probable Cause   \n",
      "16837               UNK                    NaN         Foreign   \n",
      "16866               IMC                    NaN         Foreign   \n",
      "17578               UNK                    NaN         Foreign   \n",
      "19110               UNK                    NaN         Foreign   \n",
      "\n",
      "      Publication.Date  \n",
      "11207              NaN  \n",
      "16837       07-02-1995  \n",
      "16866       07-02-1995  \n",
      "17578       07-02-1995  \n",
      "19110       07-02-1995  \n",
      "\n",
      "[5 rows x 31 columns]\n"
     ]
    }
   ],
   "source": [
    "#loading Mexico data df1\n",
    "df1 = df[df['Country'] == 'Mexico']\n",
    "print(df1.head())\n"
   ]
  },
  {
   "cell_type": "code",
   "execution_count": 18,
   "id": "b29fe44f-fc08-43df-85d4-fdccd1436948",
   "metadata": {
    "scrolled": true
   },
   "outputs": [
    {
     "name": "stdout",
     "output_type": "stream",
     "text": [
      "<class 'pandas.core.frame.DataFrame'>\n",
      "Index: 358 entries, 11207 to 88603\n",
      "Data columns (total 31 columns):\n",
      " #   Column                  Non-Null Count  Dtype  \n",
      "---  ------                  --------------  -----  \n",
      " 0   Event.Id                358 non-null    object \n",
      " 1   Investigation.Type      358 non-null    object \n",
      " 2   Accident.Number         358 non-null    object \n",
      " 3   Event.Date              358 non-null    object \n",
      " 4   Location                358 non-null    object \n",
      " 5   Country                 358 non-null    object \n",
      " 6   Latitude                96 non-null     object \n",
      " 7   Longitude               96 non-null     object \n",
      " 8   Airport.Code            39 non-null     object \n",
      " 9   Airport.Name            38 non-null     object \n",
      " 10  Injury.Severity         309 non-null    object \n",
      " 11  Aircraft.damage         301 non-null    object \n",
      " 12  Aircraft.Category       245 non-null    object \n",
      " 13  Registration.Number     294 non-null    object \n",
      " 14  Make                    358 non-null    object \n",
      " 15  Model                   357 non-null    object \n",
      " 16  Amateur.Built           358 non-null    object \n",
      " 17  Number.of.Engines       122 non-null    float64\n",
      " 18  Engine.Type             133 non-null    object \n",
      " 19  FAR.Description         226 non-null    object \n",
      " 20  Schedule                94 non-null     object \n",
      " 21  Purpose.of.flight       157 non-null    object \n",
      " 22  Air.carrier             94 non-null     object \n",
      " 23  Total.Fatal.Injuries    331 non-null    float64\n",
      " 24  Total.Serious.Injuries  297 non-null    float64\n",
      " 25  Total.Minor.Injuries    293 non-null    float64\n",
      " 26  Total.Uninjured         304 non-null    float64\n",
      " 27  Weather.Condition       162 non-null    object \n",
      " 28  Broad.phase.of.flight   2 non-null      object \n",
      " 29  Report.Status           143 non-null    object \n",
      " 30  Publication.Date        278 non-null    object \n",
      "dtypes: float64(5), object(26)\n",
      "memory usage: 89.5+ KB\n"
     ]
    }
   ],
   "source": [
    "#checking how the df1 looks like\n",
    "df1.info()"
   ]
  },
  {
   "cell_type": "code",
   "execution_count": 20,
   "id": "f05058eb-e5d1-492d-b4b1-976af9285c59",
   "metadata": {},
   "outputs": [
    {
     "data": {
      "text/html": [
       "<div>\n",
       "<style scoped>\n",
       "    .dataframe tbody tr th:only-of-type {\n",
       "        vertical-align: middle;\n",
       "    }\n",
       "\n",
       "    .dataframe tbody tr th {\n",
       "        vertical-align: top;\n",
       "    }\n",
       "\n",
       "    .dataframe thead th {\n",
       "        text-align: right;\n",
       "    }\n",
       "</style>\n",
       "<table border=\"1\" class=\"dataframe\">\n",
       "  <thead>\n",
       "    <tr style=\"text-align: right;\">\n",
       "      <th></th>\n",
       "      <th>Event.Id</th>\n",
       "      <th>Investigation.Type</th>\n",
       "      <th>Accident.Number</th>\n",
       "      <th>Event.Date</th>\n",
       "      <th>Location</th>\n",
       "      <th>Country</th>\n",
       "      <th>Latitude</th>\n",
       "      <th>Longitude</th>\n",
       "      <th>Airport.Code</th>\n",
       "      <th>Airport.Name</th>\n",
       "      <th>...</th>\n",
       "      <th>Purpose.of.flight</th>\n",
       "      <th>Air.carrier</th>\n",
       "      <th>Total.Fatal.Injuries</th>\n",
       "      <th>Total.Serious.Injuries</th>\n",
       "      <th>Total.Minor.Injuries</th>\n",
       "      <th>Total.Uninjured</th>\n",
       "      <th>Weather.Condition</th>\n",
       "      <th>Broad.phase.of.flight</th>\n",
       "      <th>Report.Status</th>\n",
       "      <th>Publication.Date</th>\n",
       "    </tr>\n",
       "  </thead>\n",
       "  <tbody>\n",
       "    <tr>\n",
       "      <th>87880</th>\n",
       "      <td>20220621105288</td>\n",
       "      <td>Incident</td>\n",
       "      <td>ENG22WA031</td>\n",
       "      <td>2022-05-30</td>\n",
       "      <td>Apodaca,</td>\n",
       "      <td>Mexico</td>\n",
       "      <td>NaN</td>\n",
       "      <td>NaN</td>\n",
       "      <td>NaN</td>\n",
       "      <td>NaN</td>\n",
       "      <td>...</td>\n",
       "      <td>NaN</td>\n",
       "      <td>Viva Aerobus</td>\n",
       "      <td>0.0</td>\n",
       "      <td>0.0</td>\n",
       "      <td>0.0</td>\n",
       "      <td>0.0</td>\n",
       "      <td>NaN</td>\n",
       "      <td>NaN</td>\n",
       "      <td>NaN</td>\n",
       "      <td>NaN</td>\n",
       "    </tr>\n",
       "    <tr>\n",
       "      <th>87909</th>\n",
       "      <td>20220620105276</td>\n",
       "      <td>Incident</td>\n",
       "      <td>ENG22WA030</td>\n",
       "      <td>2022-06-04</td>\n",
       "      <td>Tijuana,</td>\n",
       "      <td>Mexico</td>\n",
       "      <td>323227N</td>\n",
       "      <td>1165812E</td>\n",
       "      <td>MMTJ</td>\n",
       "      <td>Tijuana International Airport</td>\n",
       "      <td>...</td>\n",
       "      <td>NaN</td>\n",
       "      <td>Viva Aerobus</td>\n",
       "      <td>0.0</td>\n",
       "      <td>0.0</td>\n",
       "      <td>0.0</td>\n",
       "      <td>0.0</td>\n",
       "      <td>NaN</td>\n",
       "      <td>NaN</td>\n",
       "      <td>NaN</td>\n",
       "      <td>NaN</td>\n",
       "    </tr>\n",
       "    <tr>\n",
       "      <th>88104</th>\n",
       "      <td>20220816105750</td>\n",
       "      <td>Accident</td>\n",
       "      <td>GAA22WA249</td>\n",
       "      <td>2022-07-06</td>\n",
       "      <td>Tamaulipas,</td>\n",
       "      <td>Mexico</td>\n",
       "      <td>NaN</td>\n",
       "      <td>NaN</td>\n",
       "      <td>NaN</td>\n",
       "      <td>NaN</td>\n",
       "      <td>...</td>\n",
       "      <td>NaN</td>\n",
       "      <td>NaN</td>\n",
       "      <td>0.0</td>\n",
       "      <td>0.0</td>\n",
       "      <td>0.0</td>\n",
       "      <td>5.0</td>\n",
       "      <td>NaN</td>\n",
       "      <td>NaN</td>\n",
       "      <td>NaN</td>\n",
       "      <td>05-10-2022</td>\n",
       "    </tr>\n",
       "    <tr>\n",
       "      <th>88136</th>\n",
       "      <td>20220718105505</td>\n",
       "      <td>Accident</td>\n",
       "      <td>GAA22WA227</td>\n",
       "      <td>2022-07-12</td>\n",
       "      <td>Queretaro,</td>\n",
       "      <td>Mexico</td>\n",
       "      <td>NaN</td>\n",
       "      <td>NaN</td>\n",
       "      <td>NaN</td>\n",
       "      <td>NaN</td>\n",
       "      <td>...</td>\n",
       "      <td>NaN</td>\n",
       "      <td>NaN</td>\n",
       "      <td>2.0</td>\n",
       "      <td>0.0</td>\n",
       "      <td>0.0</td>\n",
       "      <td>0.0</td>\n",
       "      <td>NaN</td>\n",
       "      <td>NaN</td>\n",
       "      <td>NaN</td>\n",
       "      <td>14-09-2022</td>\n",
       "    </tr>\n",
       "    <tr>\n",
       "      <th>88603</th>\n",
       "      <td>20221005106062</td>\n",
       "      <td>Accident</td>\n",
       "      <td>GAA22WA294</td>\n",
       "      <td>2022-09-30</td>\n",
       "      <td>Toluca,</td>\n",
       "      <td>Mexico</td>\n",
       "      <td>NaN</td>\n",
       "      <td>NaN</td>\n",
       "      <td>NaN</td>\n",
       "      <td>NaN</td>\n",
       "      <td>...</td>\n",
       "      <td>NaN</td>\n",
       "      <td>NaN</td>\n",
       "      <td>3.0</td>\n",
       "      <td>0.0</td>\n",
       "      <td>0.0</td>\n",
       "      <td>0.0</td>\n",
       "      <td>NaN</td>\n",
       "      <td>NaN</td>\n",
       "      <td>NaN</td>\n",
       "      <td>25-10-2022</td>\n",
       "    </tr>\n",
       "  </tbody>\n",
       "</table>\n",
       "<p>5 rows × 31 columns</p>\n",
       "</div>"
      ],
      "text/plain": [
       "             Event.Id Investigation.Type Accident.Number  Event.Date  \\\n",
       "87880  20220621105288           Incident      ENG22WA031  2022-05-30   \n",
       "87909  20220620105276           Incident      ENG22WA030  2022-06-04   \n",
       "88104  20220816105750           Accident      GAA22WA249  2022-07-06   \n",
       "88136  20220718105505           Accident      GAA22WA227  2022-07-12   \n",
       "88603  20221005106062           Accident      GAA22WA294  2022-09-30   \n",
       "\n",
       "           Location Country Latitude Longitude Airport.Code  \\\n",
       "87880     Apodaca,   Mexico      NaN       NaN          NaN   \n",
       "87909     Tijuana,   Mexico  323227N  1165812E         MMTJ   \n",
       "88104  Tamaulipas,   Mexico      NaN       NaN          NaN   \n",
       "88136   Queretaro,   Mexico      NaN       NaN          NaN   \n",
       "88603      Toluca,   Mexico      NaN       NaN          NaN   \n",
       "\n",
       "                        Airport.Name  ... Purpose.of.flight   Air.carrier  \\\n",
       "87880                            NaN  ...               NaN  Viva Aerobus   \n",
       "87909  Tijuana International Airport  ...               NaN  Viva Aerobus   \n",
       "88104                            NaN  ...               NaN           NaN   \n",
       "88136                            NaN  ...               NaN           NaN   \n",
       "88603                            NaN  ...               NaN           NaN   \n",
       "\n",
       "      Total.Fatal.Injuries Total.Serious.Injuries Total.Minor.Injuries  \\\n",
       "87880                  0.0                    0.0                  0.0   \n",
       "87909                  0.0                    0.0                  0.0   \n",
       "88104                  0.0                    0.0                  0.0   \n",
       "88136                  2.0                    0.0                  0.0   \n",
       "88603                  3.0                    0.0                  0.0   \n",
       "\n",
       "      Total.Uninjured Weather.Condition  Broad.phase.of.flight Report.Status  \\\n",
       "87880             0.0               NaN                    NaN           NaN   \n",
       "87909             0.0               NaN                    NaN           NaN   \n",
       "88104             5.0               NaN                    NaN           NaN   \n",
       "88136             0.0               NaN                    NaN           NaN   \n",
       "88603             0.0               NaN                    NaN           NaN   \n",
       "\n",
       "      Publication.Date  \n",
       "87880              NaN  \n",
       "87909              NaN  \n",
       "88104       05-10-2022  \n",
       "88136       14-09-2022  \n",
       "88603       25-10-2022  \n",
       "\n",
       "[5 rows x 31 columns]"
      ]
     },
     "execution_count": 20,
     "metadata": {},
     "output_type": "execute_result"
    }
   ],
   "source": [
    "#checking the last 5 columns\n",
    "df1.tail()"
   ]
  },
  {
   "cell_type": "code",
   "execution_count": 24,
   "id": "cdcd2507-0b73-4d65-a098-e7c6dc1e8bb6",
   "metadata": {},
   "outputs": [
    {
     "data": {
      "text/plain": [
       "array(['Mexico'], dtype=object)"
      ]
     },
     "execution_count": 24,
     "metadata": {},
     "output_type": "execute_result"
    }
   ],
   "source": [
    "#checkinghow unique df1 is\n",
    "df1['Country'].unique()"
   ]
  },
  {
   "cell_type": "code",
   "execution_count": 26,
   "id": "8aab81e3-01dc-4a10-a7f1-fff06da81c63",
   "metadata": {},
   "outputs": [
    {
     "data": {
      "text/html": [
       "<div>\n",
       "<style scoped>\n",
       "    .dataframe tbody tr th:only-of-type {\n",
       "        vertical-align: middle;\n",
       "    }\n",
       "\n",
       "    .dataframe tbody tr th {\n",
       "        vertical-align: top;\n",
       "    }\n",
       "\n",
       "    .dataframe thead th {\n",
       "        text-align: right;\n",
       "    }\n",
       "</style>\n",
       "<table border=\"1\" class=\"dataframe\">\n",
       "  <thead>\n",
       "    <tr style=\"text-align: right;\">\n",
       "      <th></th>\n",
       "      <th>Number.of.Engines</th>\n",
       "      <th>Total.Fatal.Injuries</th>\n",
       "      <th>Total.Serious.Injuries</th>\n",
       "      <th>Total.Minor.Injuries</th>\n",
       "      <th>Total.Uninjured</th>\n",
       "    </tr>\n",
       "  </thead>\n",
       "  <tbody>\n",
       "    <tr>\n",
       "      <th>count</th>\n",
       "      <td>122.000000</td>\n",
       "      <td>331.000000</td>\n",
       "      <td>297.000000</td>\n",
       "      <td>293.000000</td>\n",
       "      <td>304.000000</td>\n",
       "    </tr>\n",
       "    <tr>\n",
       "      <th>mean</th>\n",
       "      <td>1.319672</td>\n",
       "      <td>1.972810</td>\n",
       "      <td>0.447811</td>\n",
       "      <td>0.409556</td>\n",
       "      <td>11.302632</td>\n",
       "    </tr>\n",
       "    <tr>\n",
       "      <th>std</th>\n",
       "      <td>0.741524</td>\n",
       "      <td>2.961754</td>\n",
       "      <td>2.004590</td>\n",
       "      <td>1.549252</td>\n",
       "      <td>39.498262</td>\n",
       "    </tr>\n",
       "    <tr>\n",
       "      <th>min</th>\n",
       "      <td>0.000000</td>\n",
       "      <td>0.000000</td>\n",
       "      <td>0.000000</td>\n",
       "      <td>0.000000</td>\n",
       "      <td>0.000000</td>\n",
       "    </tr>\n",
       "    <tr>\n",
       "      <th>25%</th>\n",
       "      <td>1.000000</td>\n",
       "      <td>0.000000</td>\n",
       "      <td>0.000000</td>\n",
       "      <td>0.000000</td>\n",
       "      <td>0.000000</td>\n",
       "    </tr>\n",
       "    <tr>\n",
       "      <th>50%</th>\n",
       "      <td>1.000000</td>\n",
       "      <td>1.000000</td>\n",
       "      <td>0.000000</td>\n",
       "      <td>0.000000</td>\n",
       "      <td>0.000000</td>\n",
       "    </tr>\n",
       "    <tr>\n",
       "      <th>75%</th>\n",
       "      <td>2.000000</td>\n",
       "      <td>3.000000</td>\n",
       "      <td>0.000000</td>\n",
       "      <td>0.000000</td>\n",
       "      <td>2.000000</td>\n",
       "    </tr>\n",
       "    <tr>\n",
       "      <th>max</th>\n",
       "      <td>4.000000</td>\n",
       "      <td>19.000000</td>\n",
       "      <td>26.000000</td>\n",
       "      <td>16.000000</td>\n",
       "      <td>403.000000</td>\n",
       "    </tr>\n",
       "  </tbody>\n",
       "</table>\n",
       "</div>"
      ],
      "text/plain": [
       "       Number.of.Engines  Total.Fatal.Injuries  Total.Serious.Injuries  \\\n",
       "count         122.000000            331.000000              297.000000   \n",
       "mean            1.319672              1.972810                0.447811   \n",
       "std             0.741524              2.961754                2.004590   \n",
       "min             0.000000              0.000000                0.000000   \n",
       "25%             1.000000              0.000000                0.000000   \n",
       "50%             1.000000              1.000000                0.000000   \n",
       "75%             2.000000              3.000000                0.000000   \n",
       "max             4.000000             19.000000               26.000000   \n",
       "\n",
       "       Total.Minor.Injuries  Total.Uninjured  \n",
       "count            293.000000       304.000000  \n",
       "mean               0.409556        11.302632  \n",
       "std                1.549252        39.498262  \n",
       "min                0.000000         0.000000  \n",
       "25%                0.000000         0.000000  \n",
       "50%                0.000000         0.000000  \n",
       "75%                0.000000         2.000000  \n",
       "max               16.000000       403.000000  "
      ]
     },
     "execution_count": 26,
     "metadata": {},
     "output_type": "execute_result"
    }
   ],
   "source": [
    "df1.describe()"
   ]
  },
  {
   "cell_type": "code",
   "execution_count": 15,
   "id": "d8f992f4-24ef-47ed-95af-e04fdb695e8b",
   "metadata": {},
   "outputs": [
    {
     "data": {
      "text/plain": [
       "Event.Id                    0\n",
       "Investigation.Type          0\n",
       "Accident.Number             0\n",
       "Event.Date                  0\n",
       "Location                    0\n",
       "Country                     0\n",
       "Latitude                  262\n",
       "Longitude                 262\n",
       "Airport.Code              319\n",
       "Airport.Name              320\n",
       "Injury.Severity            49\n",
       "Aircraft.damage            57\n",
       "Aircraft.Category         113\n",
       "Registration.Number        64\n",
       "Make                        0\n",
       "Model                       1\n",
       "Amateur.Built               0\n",
       "Number.of.Engines         236\n",
       "Engine.Type               225\n",
       "FAR.Description           132\n",
       "Schedule                  264\n",
       "Purpose.of.flight         201\n",
       "Air.carrier               264\n",
       "Total.Fatal.Injuries       27\n",
       "Total.Serious.Injuries     61\n",
       "Total.Minor.Injuries       65\n",
       "Total.Uninjured            54\n",
       "Weather.Condition         196\n",
       "Broad.phase.of.flight     356\n",
       "Report.Status             215\n",
       "Publication.Date           80\n",
       "dtype: int64"
      ]
     },
     "execution_count": 15,
     "metadata": {},
     "output_type": "execute_result"
    }
   ],
   "source": [
    "## Checking Missing \n",
    "\n",
    "df1.isna().sum()"
   ]
  },
  {
   "cell_type": "code",
   "execution_count": 21,
   "id": "d63e2e50-a793-4d02-9ada-21baec24ea96",
   "metadata": {},
   "outputs": [],
   "source": [
    "#dropping the columns event.id\n",
    "df1 = df1.drop(columns='Event.Id')"
   ]
  },
  {
   "cell_type": "code",
   "execution_count": 25,
   "id": "f2497e92-dbed-4167-ba40-892ad21f972f",
   "metadata": {},
   "outputs": [],
   "source": [
    "#The null values in them is greater than 90 percent\n",
    "df1 = df1.drop(columns='Broad.phase.of.flight')"
   ]
  },
  {
   "cell_type": "code",
   "execution_count": null,
   "id": "b3cb0d57-6606-4ec6-b2b1-875c0ec0c1c2",
   "metadata": {},
   "outputs": [],
   "source": [
    "# Only select numeric columns \n",
    "numeric_columns = df.select_dtypes(include=['number']).columns[:]"
   ]
  },
  {
   "cell_type": "code",
   "execution_count": 35,
   "id": "730b6e7d-64f2-4c15-a64b-29e193716281",
   "metadata": {
    "scrolled": true
   },
   "outputs": [
    {
     "data": {
      "image/png": "[encoded data removed]",
      "text/plain": [
       "<Figure size 2000x1300 with 6 Axes>"
      ]
     },
     "metadata": {},
     "output_type": "display_data"
    }
   ],
   "source": [
    "#replacing numeric null values by checking the uniformity of the data\n",
    "df1.hist(bins=15, figsize=(20,13));"
   ]
  },
  {
   "cell_type": "code",
   "execution_count": 99,
   "id": "6787e3da-c338-4e6d-babf-fe83f8b791bf",
   "metadata": {},
   "outputs": [
    {
     "data": {
      "text/plain": [
       "1.0"
      ]
     },
     "execution_count": 99,
     "metadata": {},
     "output_type": "execute_result"
    }
   ],
   "source": [
    "#checking how median differ from mean for number of engines not so much different from the mean\n",
    "median_engines = df1['number.of.engines'].median()\n",
    "median_engines"
   ]
  },
  {
   "cell_type": "code",
   "execution_count": 45,
   "id": "20edaa8b-2601-4280-8798-2efb9060ec2b",
   "metadata": {
    "scrolled": true
   },
   "outputs": [
    {
     "name": "stdout",
     "output_type": "stream",
     "text": [
      "Unique values in column 'Investigation.Type','\n",
      "': ['Incident' 'Accident'] \n",
      "\n",
      "Unique values in column 'Accident.Number','\n",
      "': ['FTW85IA168' 'FTW87RA066' 'FTW87WA070' 'LAX87WA216' 'DCA88RA002'\n",
      " 'LAX88FA045' 'LAX88WA068' 'LAX88WA067' 'LAX88WA105' 'LAX88WA165'\n",
      " 'LAX88WA185' 'LAX88WA237' 'LAX88WA323' 'FTW89RA034' 'LAX89WA260'\n",
      " 'LAX89WA293' 'LAX89WA326' 'LAX92WA284' 'FTW92WA236' 'FTW92WA231'\n",
      " 'FTW93WA018' 'MIA93WA010' 'FTW93WA054' 'LAX93WA090' 'LAX93WA145'\n",
      " 'FTW93WA107A' 'FTW93WA107B' 'LAX93WA184' 'FTW93WA270' 'FTW93WA259'\n",
      " 'LAX94WA053' 'FTW94WA073' 'LAX94WA341' 'FTW95WA037' 'LAX95WA056'\n",
      " 'FTW95WA081' 'LAX95WA185' 'FTW95RA287' 'LAX96WA014' 'LAX96WA038'\n",
      " 'FTW96RA037' 'FTW96WA342' 'LAX96WA057' 'LAX96WA063' 'LAX96RA116'\n",
      " 'FTW96WA220' 'LAX97WA094' 'FTW97RA101' 'LAX97WA109' 'FTW97WA133'\n",
      " 'DCA97WA035' 'LAX97WA194' 'FTW97RA194' 'FTW97RA314' 'LAX98WA032'\n",
      " 'FTW98RA119' 'DCA98WA026' 'DCA98WA027' 'FTW98RA401' 'FTW99WA109A'\n",
      " 'FTW99WA109B' 'FTW00RA029' 'FTW00RA062' 'FTW00WA056' 'FTW00RA076'\n",
      " 'FTW00RA102' 'FTW00WA171' 'FTW00WA151' 'FTW00RA241' 'FTW00RA196'\n",
      " 'FTW01WA010' 'FTW01RA006' 'FTW01RA008' 'FTW01WA031' 'WAS01WA007'\n",
      " 'MIA01WA177' 'ENG01RA003' 'WAS01RA024' 'WAS01WA028' 'WAS01RA025'\n",
      " 'DCA01WA061' 'WAS02WA001' 'WAS02WA004' 'WAS02WA009' 'WAS02WA008'\n",
      " 'WAS02WA012' 'WAS02WA018' 'LAX02WA195' 'FTW02WA213' 'FTW03WA020'\n",
      " 'FTW03RA033' 'FTW03WA043' 'FTW03WA131' 'FTW03WA137' 'MIA03WA164'\n",
      " 'FTW03WA218' 'FTW03WA226' 'FTW03WA227' 'FTW04WA016' 'FTW04WA017'\n",
      " 'FTW04WA048' 'FTW04WA154' 'FTW04WA074' 'FTW04WA066' 'FTW04WA089'\n",
      " 'FTW04WA093' 'FTW04WA170' 'FTW04WA137' 'FTW04WA120' 'FTW04WA173'\n",
      " 'FTW04WA194' 'FTW04WA216' 'FTW04WA230' 'DFW05WA039' 'DFW05RA063'\n",
      " 'DFW05WA071' 'DFW05WA078' 'DFW05WA114' 'DFW05WA184' 'DFW05WA232'\n",
      " 'DFW05WA245' 'DFW05WA254' 'DFW06WA023' 'DFW06WA090' 'DFW06WA099'\n",
      " 'DFW06WA147' 'DFW06WA177' 'DCA06WA056' 'DFW06WA210' 'DFW06WA211'\n",
      " 'DFW07WA054' 'MIA07RA034' 'DFW07WA110' 'DFW07WA137' 'DFW07WA159'\n",
      " 'DFW07WA168' 'DFW08WA037' 'DFW07WA205' 'DFW08WA027' 'DFW08WA043'\n",
      " 'DFW08WA110' 'DFW08WA090' 'DFW08WA091' 'LAX08WA113' 'DCA08RA077'\n",
      " 'DFW08WA201' 'DFW08RA232' 'CEN09WA016' 'CEN09WA022' 'CEN09RA030'\n",
      " 'CEN09RA052' 'DCA09RA007' 'CEN09WA082' 'CEN09WA103' 'CEN09WA309'\n",
      " 'CEN09WA188' 'CEN09WA370' 'DCA09WA046' 'CEN09WA286' 'CEN09WA529'\n",
      " 'CEN10WA072' 'CEN10WA009' 'DCA10RA053' 'CEN10RA345' 'CEN10RA319'\n",
      " 'CEN10WA413' 'CEN10WA374' 'CEN10WA574' 'CEN12WA547' 'CEN11WA013'\n",
      " 'CEN11RA024' 'CEN11WA070' 'DCA11WA007' 'CEN11WA222' 'CEN11WA639'\n",
      " 'CEN12WA040' 'DCA12RA012' 'CEN12RA180' 'DCA12WA137' 'CEN12WA178'\n",
      " 'CEN12WA338' 'CEN12WA449' 'DCA12WA135' 'CEN12WA536' 'DCA12RA143'\n",
      " 'DCA13RA025' 'CEN13WA178' 'CEN13WA235' 'CEN13WA181' 'CEN13WA180'\n",
      " 'CEN13WA255' 'CEN13WA248' 'CEN13WA405' 'CEN13WA329' 'CEN13WA328'\n",
      " 'DCA13WA134' 'CEN13WA505' 'CEN14WA029' 'CEN14RA212' 'DCA14WA103'\n",
      " 'DCA14WA181' 'CEN15WA054' 'CEN15WA082' 'CEN15WA251' 'DCA15WA209'\n",
      " 'CEN16WA009' 'CEN16WA020' 'DCA16WA017' 'CEN16WA075' 'DCA16WA025'\n",
      " 'CEN16WA065' 'DCA16WA101' 'ENG16RA011' 'CEN16WA144' 'CEN16WA149'\n",
      " 'CEN16WA160' 'CEN16WA402' 'ENG16WA035' 'DCA17WA030' 'CEN17WA083'\n",
      " 'SUR17WA001' 'CEN17WA109' 'DCA17WA115' 'CEN17WA115' 'DCA17WA075'\n",
      " 'CEN17WA128' 'CEN17WA129' 'CEN17WA161' 'CEN17WA195' 'CEN17WA187'\n",
      " 'DCA17WA192' 'CEN17WA262' 'CEN17WA269' 'DCA17WA153' 'CEN17WA276'\n",
      " 'CEN17WA289' 'DCA17WA168' 'CEN17WA321' 'CEN17WA378' 'DCA17WA196'\n",
      " 'DCA17WA223' 'CEN18WA005' 'CEN18WA046' 'CEN18WA091' 'CEN18WA110'\n",
      " 'DCA18WA156' 'DCA18WA124' 'DCA18WA153' 'DCA18WA154' 'DCA18WA151'\n",
      " 'DCA18WA308' 'DCA18WA155' 'CEN18WA188' 'CEN18WA214' 'CEN18WA234'\n",
      " 'CEN18WA327' 'DCA18WA247' 'CEN18WA305' 'DCA18WA297' 'CEN18WA308'\n",
      " 'DCA18RA253' 'CEN18WA343' 'DCA18WA280' 'DCA18WA278' 'DCA18WA279'\n",
      " 'CEN18WA367' 'CEN18WA388' 'DCA18WA296' 'CEN19WA001' 'CEN19WA012'\n",
      " 'CEN19WA038' 'CEN19WA041' 'CEN19WA040' 'DCA19WA044' 'ERA19RA077'\n",
      " 'CEN19WA077' 'CEN19WA079' 'CEN19WA081' 'GAA19WA274' 'CEN19WA137'\n",
      " 'GAA19WA291' 'GAA19WA592' 'ENG19WA040' 'CEN19WA294' 'CEN19WA301'\n",
      " 'GAA19WA533' 'CEN19WA296' 'GAA19WA593' 'GAA20WA077' 'GAA20WA078'\n",
      " 'CEN20WA065' 'CEN20WA045' 'DCA20WA084' 'ENG20WA017' 'CEN20WA102'\n",
      " 'CEN20WA121' 'DCA20WA094' 'DCA20WA096' 'CEN20WA135' 'DCA21WA016'\n",
      " 'CEN20WA157' 'CEN20WA200' 'ENG20WA037' 'GAA20WA114' 'GAA20WA127'\n",
      " 'GAA20WA124' 'DCA20WA132' 'ENG20WA040' 'GAA20WA130' 'CEN20WA319'\n",
      " 'DCA20WA141' 'CEN20WA414' 'CEN21WA036' 'DCA21WA017' 'GAA21WA003'\n",
      " 'CEN21WA061' 'DCA21WA041' 'GAA21WA135' 'DCA21WA071' 'DCA21WA081'\n",
      " 'GAA21WA019' 'GAA21WA045' 'GAA21WA020' 'GAA21WA034' 'GAA21WA035'\n",
      " 'GAA21WA036' 'GAA21WA063' 'GAA21WA051' 'DCA21WA097' 'DCA21WA100'\n",
      " 'GAA21WA052' 'GAA21WA060' 'GAA21WA061' 'GAA21WA066' 'GAA21WA062'\n",
      " 'GAA21WA108' 'DCA21WA123' 'GAA21WA088' 'GAA21WA099' 'GAA21WA103'\n",
      " 'DCA21WA206' 'GAA21WA176' 'DCA21WA202' 'GAA21WA250' 'GAA22WA004'\n",
      " 'GAA22WA039' 'GAA22WA096' 'ENG22WA011' 'GAA22WA136' 'DCA22WA096'\n",
      " 'GAA22WA137' 'ENG22WA023' 'GAA22WA187' 'ENG22WA031' 'ENG22WA030'\n",
      " 'GAA22WA249' 'GAA22WA227' 'GAA22WA294'] \n",
      "\n",
      "Unique values in column 'Event.Date','\n",
      "': ['1985-03-29' '1987-02-14' '1987-02-20' '1987-05-23' '1987-11-07'\n",
      " '1987-11-15' '1987-11-26' '1987-11-27' '1988-02-03' '1988-04-14'\n",
      " '1988-05-14' '1988-06-23' '1988-08-13' '1988-12-16' '1989-08-01'\n",
      " '1989-08-26' '1989-09-17' '1992-07-04' '1992-08-18' '1992-08-23'\n",
      " '1992-10-19' '1992-10-23' '1992-12-13' '1992-12-29' '1993-02-27'\n",
      " '1993-03-15' '1993-04-19' '1993-06-03' '1993-11-13' '1993-11-23'\n",
      " '1994-08-09' '1994-11-01' '1994-11-18' '1995-01-04' '1995-04-24'\n",
      " '1995-07-10' '1995-10-18' '1995-10-29' '1995-10-31' '1995-11-17'\n",
      " '1995-11-26' '1995-12-05' '1996-02-06' '1996-05-14' '1996-12-07'\n",
      " '1997-02-05' '1997-02-17' '1997-03-16' '1997-03-30' '1997-05-19'\n",
      " '1997-05-20' '1997-08-15' '1997-11-02' '1998-01-02' '1998-02-25'\n",
      " '1998-03-03' '1998-09-16' '1999-04-04' '1999-11-09' '1999-11-30'\n",
      " '1999-12-22' '2000-01-25' '2000-03-21' '2000-05-21' '2000-06-08'\n",
      " '2000-07-08' '2000-10-01' '2000-10-06' '2000-10-14' '2000-11-24'\n",
      " '2001-05-15' '2001-06-25' '2001-09-06' '2001-09-08' '2001-09-12'\n",
      " '2001-09-24' '2001-10-07' '2001-10-26' '2001-11-26' '2001-11-27'\n",
      " '2001-12-18' '2002-01-18' '2002-06-01' '2002-07-21' '2002-10-18'\n",
      " '2002-10-31' '2002-11-15' '2003-04-10' '2003-04-14' '2003-08-14'\n",
      " '2003-08-16' '2003-09-13' '2003-09-16' '2003-10-27' '2003-10-29'\n",
      " '2003-12-13' '2004-01-11' '2004-01-25' '2004-01-26' '2004-03-06'\n",
      " '2004-03-07' '2004-03-14' '2004-04-07' '2004-05-02' '2004-06-12'\n",
      " '2004-07-21' '2004-08-13' '2004-08-29' '2004-12-14' '2005-01-20'\n",
      " '2005-02-12' '2005-02-24' '2005-04-30' '2005-07-17' '2005-09-07'\n",
      " '2005-09-21' '2005-09-26' '2005-11-02' '2006-03-27' '2006-04-11'\n",
      " '2006-05-30' '2006-07-09' '2006-07-24' '2006-09-08' '2006-09-15'\n",
      " '2006-12-30' '2007-01-09' '2007-05-12' '2007-06-15' '2007-07-05'\n",
      " '2007-07-21' '2007-08-12' '2007-09-14' '2007-11-05' '2007-12-06'\n",
      " '2008-01-11' '2008-02-25' '2008-03-28' '2008-04-13' '2008-07-06'\n",
      " '2008-08-02' '2008-09-15' '2008-10-06' '2008-10-17' '2008-10-21'\n",
      " '2008-11-04' '2008-11-05' '2008-12-08' '2008-12-20' '2009-02-05'\n",
      " '2009-02-28' '2009-04-08' '2009-04-27' '2009-05-07' '2009-08-07'\n",
      " '2009-08-31' '2009-10-03' '2010-04-14' '2010-06-01' '2010-06-13'\n",
      " '2010-07-03' '2010-07-07' '2010-09-03' '2010-09-25' '2010-10-06'\n",
      " '2010-10-15' '2010-11-04' '2011-02-18' '2011-09-12' '2011-10-23'\n",
      " '2011-11-11' '2012-02-21' '2012-02-25' '2012-06-02' '2012-06-29'\n",
      " '2012-07-28' '2012-08-04' '2012-09-05' '2012-12-09' '2012-12-26'\n",
      " '2013-01-17' '2013-02-12' '2013-02-24' '2013-04-24' '2013-04-30'\n",
      " '2013-05-30' '2013-06-07' '2013-07-31' '2013-08-26' '2013-10-14'\n",
      " '2014-04-20' '2014-06-01' '2014-09-02' '2014-11-20' '2014-12-18'\n",
      " '2015-06-02' '2015-07-23' '2015-10-06' '2015-10-22' '2015-11-02'\n",
      " '2015-11-16' '2015-11-27' '2015-12-10' '2016-02-24' '2016-03-13'\n",
      " '2016-04-01' '2016-04-02' '2016-04-17' '2016-05-08' '2016-07-12'\n",
      " '2016-11-09' '2017-01-21' '2017-01-26' '2017-02-10' '2017-02-20'\n",
      " '2017-02-26' '2017-03-05' '2017-03-12' '2017-03-13' '2017-04-14'\n",
      " '2017-05-09' '2017-05-17' '2017-06-29' '2017-06-30' '2017-07-05'\n",
      " '2017-07-15' '2017-07-23' '2017-08-01' '2017-08-02' '2017-09-02'\n",
      " '2017-09-03' '2017-09-06' '2017-10-05' '2017-11-22' '2018-01-26'\n",
      " '2018-02-12' '2018-03-27' '2018-03-29' '2018-04-10' '2018-04-11'\n",
      " '2018-04-12' '2018-04-18' '2018-05-15' '2018-05-25' '2018-06-07'\n",
      " '2018-07-04' '2018-07-11' '2018-07-22' '2018-07-23' '2018-07-25'\n",
      " '2018-07-31' '2018-08-01' '2018-08-18' '2018-08-20' '2018-08-28'\n",
      " '2018-09-21' '2018-09-26' '2018-10-01' '2018-10-16' '2018-11-08'\n",
      " '2018-11-12' '2018-12-03' '2018-12-12' '2018-12-24' '2019-01-26'\n",
      " '2019-01-30' '2019-02-10' '2019-05-03' '2019-05-05' '2019-05-12'\n",
      " '2019-07-05' '2019-07-10' '2019-07-27' '2019-08-02' '2019-08-06'\n",
      " '2019-08-26' '2019-09-05' '2019-10-20' '2019-10-23' '2019-11-05'\n",
      " '2019-12-24' '2020-01-01' '2020-01-24' '2020-01-25' '2020-02-18'\n",
      " '2020-02-27' '2020-03-05' '2020-03-15' '2020-03-27' '2020-04-07'\n",
      " '2020-04-28' '2020-06-16' '2020-06-23' '2020-06-26' '2020-07-10'\n",
      " '2020-07-11' '2020-07-23' '2020-07-25' '2020-07-29' '2020-08-24'\n",
      " '2020-09-16' '2020-09-19' '2020-10-09' '2020-11-07' '2020-12-01'\n",
      " '2020-12-28' '2021-01-04' '2021-01-06' '2021-01-19' '2021-01-23'\n",
      " '2021-01-28' '2021-02-10' '2021-02-12' '2021-02-25' '2021-02-28'\n",
      " '2021-03-03' '2021-03-15' '2021-03-16' '2021-03-17' '2021-03-27'\n",
      " '2021-03-30' '2021-04-01' '2021-04-13' '2021-04-23' '2021-04-29'\n",
      " '2021-05-02' '2021-07-04' '2021-07-18' '2021-07-29' '2021-09-30'\n",
      " '2021-10-04' '2021-10-19' '2022-01-23' '2022-02-15' '2022-02-28'\n",
      " '2022-03-01' '2022-03-30' '2022-04-09' '2022-05-23' '2022-05-30'\n",
      " '2022-06-04' '2022-07-06' '2022-07-12' '2022-09-30'] \n",
      "\n",
      "Unique values in column 'Location','\n",
      "': ['MEXICO CITY, Mexico' 'DURANGO, Mexico' 'LA UNION MORALE, Mexico'\n",
      " 'MEXICALI, MEXICO' 'TIJUANA, Mexico' 'MEXICALI, Mexico'\n",
      " 'PUNTA PESCADERO, MEXICO' 'GUAYMAS, Mexico' 'CREELEY, MEXICO'\n",
      " 'MULEGE, Mexico' 'SANTA YNES, MEXICO' 'LA PIEDAD, MEXICO'\n",
      " 'EL ALAMO, MEXICO' 'CUATRO CIENEGAS, Mexico' 'PUNTA ABRIEJOS, MEXICO'\n",
      " 'MUIEGE, MEXICO' 'ENSENADA, Mexico' 'PUNTA CHINA, Mexico'\n",
      " 'SAN FERNANDO, MEXICO' 'PESQUERIA, Mexico' 'COZUMEL, MEXICO'\n",
      " 'MEXICO CITY, MEXICO' 'LORETO, MEXICO' 'LORETO, Mexico'\n",
      " 'GUADALAJARA, Mexico' 'GUADALAJARA, MEXICO' 'PVT RANCH BAJA, MEXICO'\n",
      " 'CHIHUAHUA, Mexico' 'HUAZAPARES, Mexico' 'MULEGE, MEXICO'\n",
      " 'CAMPECHE, Mexico' 'CREEL, Mexico' 'COZUMEL, Mexico' 'TRIPUI, MEXICO'\n",
      " 'TOLUCA, Mexico' 'GUERRERO NEGRO, MEXICO' 'BAHIA DE LOS AN, Mexico'\n",
      " 'DIVISADERO, MEXICO' 'PIEDRAS NEGRAS, Mexico' 'TIPEJUANES, MEXICO'\n",
      " 'BAJA CA NORTE, Mexico' 'BAJA CALIFORNIA, Mexico' 'TAMPICO, MEXICO'\n",
      " 'OBERGON, MEXICO' 'SANTA CATARINA, Mexico' 'TEJUPILCO, Mexico'\n",
      " 'NUEVO LEON, Mexico' 'RANCHO SANTA YN, Mexico' 'LA CARBONERA, Mexico'\n",
      " 'CUERNAVACA, Mexico' 'NAYARIT, Mexico' 'TAMPICO, Mexico'\n",
      " 'URUAPAN, Mexico' 'TEPIC, Mexico' 'APODACA, Mexico' 'NOGALES, MEXICO'\n",
      " 'SAN QUINTIN, Mexico' 'SAN JUANITO, MEXICO' 'CHULUM JUAREZ, Mexico'\n",
      " 'SAN MATEO, Mexico' 'REYNOSA, Mexico' 'CHIHUAHUA, MEXICO'\n",
      " 'ZUMATLAN, Mexico' 'Baborigame, Mexico' 'Guadalajara, Mexico'\n",
      " 'TIJUANA, MEXICO' 'CHICHEN ITZA, Mexico' 'Mexico City, Mexico'\n",
      " 'LOS CABOS, Mexico' 'CIUDAD VICTORIA, MEXICO' 'PLAYA DE CARMEN, Mexico'\n",
      " 'RIO FRIO, MEXICO' 'Los Barriles, Mexico' 'PUERTECITOS, MEXICO'\n",
      " 'Guachochi, Mexico' 'JALAPA, Mexico' 'MONTERREY, MEXICO'\n",
      " 'Gonzaga, Mexico' 'TOLUCA, MEXICO' 'Chetumal, Mexico' 'CANCUN, MEXICO'\n",
      " 'CHILPANCINGO, MEXICO' 'Tecalitran, Mexico' 'Soto La Marina, Mexico'\n",
      " 'Tampico, Mexico' 'Guaymas, Mexico' 'Mazamitla, Mexico' 'LA LAYA, MEXICO'\n",
      " 'San Luis Potosi, Mexico' 'CELAYA, MEXICO' 'SAN FELIPE, MEXICO'\n",
      " 'Novalato, Mexico' 'Milpillas, Mexico' 'LAS BOCAS, MEXICO'\n",
      " 'Santa Cruz, Mexico' 'ALDAMA, MEXICO' 'Apodaca, Mexico'\n",
      " 'GUERRERO, MEXICO' 'Toluca, Mexico' 'Sapotito, Mexico'\n",
      " 'La Primavera, Mexico' 'CIUDAD CARMEN, MEXICO' 'Llano Grande, Mexico'\n",
      " 'Pisa Flores, Mexico' 'El Marques, Mexico' 'MORELIA, MEXICO'\n",
      " 'Ciudad Juarez, Mexico' 'Tepic, Mexico' 'Cancun, Mexico'\n",
      " 'Ensenada, Mexico' 'Culiacan, Mexico' 'San Luis Gonzag, Mexico'\n",
      " 'Tlajomulco, Mexico' 'Zihuatanejo, Mexico' 'Arteaga, Mexico'\n",
      " 'Puebla, Mexico' 'Monterrey, Mexico' 'San Quintin, Mexico'\n",
      " 'Saltillo, Mexico' 'Ojinaga, Mexico' 'Oaxaca, Mexico'\n",
      " 'Ciudad Victoria, Mexico' 'Punta Chivato, Mexico' 'Tlaxcala, Mexico'\n",
      " 'Aguascalientes, Mexico' 'Cubiri, Mexico' 'Veracruz, Mexico'\n",
      " 'Manzanillo, Mexico' 'Unknown, Mexico' 'Guanajuato, Mexico'\n",
      " 'Campeche, Mexico' 'Felipe Carrillo Puerto, Mexico' 'La Tuna, Mexico'\n",
      " 'Piedras Negras, Mexico' 'Tuxtlas, Mexico' 'Cabo San Lucas, Mexico'\n",
      " 'Minatitlan Veracruz, Mexico' 'Puerto Vallerta, Mexico' 'Pachuca, Mexico'\n",
      " 'Loma Bonita, Veracruz, Mexico, Mexico' 'El Refugio, Mexico'\n",
      " 'Torreon, Coahuila, Mexico, Mexico' 'Sinaloa, Mexico'\n",
      " 'Gulf of Mexico, Mexico' 'Jiquipilco, Mexico' 'Tlaxco, Mexico'\n",
      " 'Cozumel, Mexico' 'Tuxtla Gutierrez, Mexico' 'Zacatecas, Mexico'\n",
      " 'Lagunillas, Jalisco, Mexico' 'Micoxtla, Mexico' 'Batopilas, Mexico'\n",
      " 'Loreto, BCS, Mexico' 'La Mojonera, Mexico' 'Nuevo Michoacan, Mexico'\n",
      " 'Queretaro, Mexico' 'Xalapa, Mexico' 'La Tinaja, Mexico'\n",
      " 'Salinas Victoria, Mexico' 'a Mitad de la Pista del Aeropuerto, Mexico'\n",
      " 'Tayoltita, Dgo, Mexico, Mexico' 'Atemajac de Brizuela, Mexico'\n",
      " 'Mexico, Mexico' 'Tamazula, Mexico' 'Magdalena, Sonora, Mexico'\n",
      " 'Etchoropo, Sonora, Mexico' 'Mexicali, Mexico'\n",
      " 'San Vicente Tancoayalab, Mexico' 'Merida, Yucatan, Mexico'\n",
      " 'Surutato, Mexico' 'Cerro Viejo, Mexico' 'Tijuana, Mexico'\n",
      " 'Puerto Chiapas, Mexico' 'Sueco, Chihuahua, Mexico, Mexico'\n",
      " 'Leon, Mexico' 'Cerro de Ortega, Mexico' 'La Morita, Mexico'\n",
      " 'Mocorito, Mexico' 'El Pozo, Mexico' 'unknown, Mexico' 'Tuzantan, Mexico'\n",
      " 'Ciudad Valles, Mexico' 'Cajeme, Sonora, Mexico' 'Vallecillos, Mexico'\n",
      " 'Chichen Itza, Mexico' 'Namiquipa, Chihuahua, Mexico'\n",
      " 'Ascension, Chihuahua, Mexico' 'Durango, Mexico' 'Namiquipa, Mexico'\n",
      " 'Los Cabos, Mexico' 'Tapachula, Mexico' 'Villa Zaragoza, Mexico'\n",
      " 'Pico de Orizaba, Mexico' 'Yecora, Mexico' 'La Paz, Mexico'\n",
      " 'Pachuca, Mexico, Mexico' 'Culiacan, Sinaloa-Mexico, Mexico'\n",
      " 'Santa Maria Coronango, State of Puebla, Mexico' 'Bavispe, Mexico'\n",
      " 'Durango, Mexico, Mexico' 'Atizapan de Zaragoza, Mexico, Mexico, Mexico'\n",
      " 'Atizapan de Zaragoza, Mexico (jjc airport), Mexico' 'COAHUILA, Mexico'\n",
      " 'Mahahual, Mexico, Mexico' 'Airdrome Jorge Efrain, Mexico'\n",
      " 'Totatlan, Jalisco, Mexico' 'Mazatan, Chiapas, Mexico'\n",
      " 'La Piedad, Mexico' 'Madero, Mexico, Mexico' 'San Rafael, Mexico'\n",
      " 'Etchoja, Mexico' 'Tepalcatepec, Michoacan, Mexico' 'Angostura, Mexico'\n",
      " 'Balleza, Chihuahua, Mexico' 'Toluca de Lerdo, Mex., Mexico, Mexico'\n",
      " 'Chihuahua, Mexico' 'Holbox, Mexico' 'Sergio Perez de Leon, Mexico'\n",
      " 'Los Laureles, Mexico' 'Chihuahua City, Mexico' 'Juan Jose Rios, Mexico'\n",
      " 'Durango, OF' 'Silao, Mexico' 'Merida, Mexico'\n",
      " 'Tapachula, Chiapas, Mexico' 'Los Mochis, Sinaloa, Mexico'\n",
      " 'Guerrero Negro, Mexico' 'Panuco, Veracruz, Mexico' 'Buitron, Mexico'\n",
      " 'La Cruz, Mexico' 'Hermosillo, Mexico, Mexico'\n",
      " 'Quintana Roo, Mexico, Mexico' 'Colon and El Marques, Queretaro, Mexico'\n",
      " 'Tamuin, Mexico' 'Mexico City,, Mexico' 'Nuevo Laredo, Mexico'\n",
      " 'Rayon, Mexico' 'La Pajarera, Mexico' 'Nuevo Leon, Mexico'\n",
      " 'Ciudad-Chihuahua state, ' 'Mexico City, ' 'Tierra Nueva, '\n",
      " 'Los Mochis, ' 'Temixco, ' 'Mexico City, OF' 'Ceballos, ' 'Apodaca, '\n",
      " 'Tijuana, ' 'Tamaulipas, ' 'Queretaro, ' 'Toluca, '] \n",
      "\n",
      "Unique values in column 'Country','\n",
      "': ['Mexico'] \n",
      "\n",
      "Unique values in column 'Latitude','\n",
      "': [nan '17.95' '32.5' '23.15' '23.700556' '26.75' '19.583333' '25.554167'\n",
      " '29.75' '19.502778' '18.836111' '21.033333' '19.3375' '27.783333'\n",
      " '20.5775' '28.377223' '20.668056' '20.553611' '20.516667' '019260N'\n",
      " '025310N' '302441N' '294113N' '016590N' '027428N' '019344N' '253210N'\n",
      " '023428N' '026034N' '191135N' '193636N' '313430N' '018125N' '253334N'\n",
      " '192732N' '027112N' '002674N' '253341N' '192913N' '017365N' '024113N'\n",
      " '020110N' '203054N' '261710N' '252713N' '264545N' '323844N' '021615N'\n",
      " '214254N' '191934N' '254147N' '244531N' '001270N' '295128N' '184023N'\n",
      " '322731N' '024554N' '263612N' '029552N' '029151N' '282053N' '024422N'\n",
      " '245042N' '019817N' '302135N' '241014N' '019567N' '193442N' '184518N'\n",
      " '029153N' '264910N' '204750N' '018840N' '019154N' '151131N' '265827N'\n",
      " '252748N' '019955N' '252245N' '265452N' '002127N' '192018N' '313850N'\n",
      " '213111N' '241425N' '025290N' '025424N' '5965231' '028136N' '253119N'\n",
      " '242715N' '283040N' '192611N' '144829N' '192610N' '323227N'] \n",
      "\n",
      "Unique values in column 'Longitude','\n",
      "': [nan '-100.916667' '-116.966667' '-109.716667' '-98.951111' '-107.5'\n",
      " '-96.569445' '-100.669445' '-114.5' '-99.959722' '-88.334722'\n",
      " '-86.883333' '-103.756944' '-90.2' '-103.113611' '-10.035277'\n",
      " '-103.577778' '-102.978334' '-103.3' '0009940W' '0100140W' '1155154W'\n",
      " '1044524W' '0096430W' '1115828W' '0098105W' '1005524W' '0985714W'\n",
      " '0109613W' '0961140W' '0088427W' '0116393W' '0954918W' '1032410W'\n",
      " '0097213W' '1073216W' '1113450W' '1005539W' '0964756W' '1012737W'\n",
      " '1054712W' '0103420W' '0865544W' '0100231W' '1065530W' '1094147W'\n",
      " '1154148W' '0864954W' '0983630W' '0993339W' '1073239W' '1072817E'\n",
      " '0094480W' '0106139W' '0103536E' '1164950W' '0107154W' '0995937W'\n",
      " '1072848W' '1072433W' '1085528W' '1102145W' '1072550E' '0981931W'\n",
      " '1085531E' '0104542E' '0099298E' '0099173E' '0874129W' '1072413W'\n",
      " '0107412W' '1025837W' '0096817W' '0101723W' '0922118W' '1094841W'\n",
      " '0100351E' '1025029W' '1081052E' '0106128W' '0865133W' '0099340W'\n",
      " '0106257E' '0872236W' '0106519W' '1082716E' '1062615W' '0109452E'\n",
      " '0114129W' '0991358W' '1072327W' '1053148W' '0099420W' '0922031W'\n",
      " '0099419W' '1165812E'] \n",
      "\n",
      "Unique values in column 'Airport.Code','\n",
      "': ['DFW' nan 'MGDL' 'MMGL' 'OAX' 'MMAN' 'MMCV' 'MMTA' 'MMIO' 'GDL' 'MMVR'\n",
      " 'MMLO' 'MMMY' 'PVR' 'MMTC' 'MEX' 'MMSP' 'MMCZ' 'MMDO' 'XYEC' 'MMLP' 'JJC'\n",
      " 'jjc' 'XJEF' 'MMSL' 'MMCS' 'MMLM' 'MMES' 'MMHO' 'MMMX' 'MMTP' 'MMPB'\n",
      " 'MMTJ'] \n",
      "\n",
      "Unique values in column 'Airport.Name','\n",
      "': ['DFW' nan 'Private Airstrip, Aldama' 'Don Miguel Hidalgo Intl.'\n",
      " 'Culiacan International Airport' 'Guadaalajara Internation'\n",
      " 'Guadalajara Intl Airport' 'Xoxocotlan International Airpo'\n",
      " 'Del Norte International' 'Pedro J. Mendez Airport' 'Tlaxcala'\n",
      " 'PLAN DE GUADALUPE INTL AIRPORT' 'Aeropuerto Pedro J. Mendez'\n",
      " 'Guadalajara' 'General Heriberto Jara Corona' \"Guanajuato Int'l\"\n",
      " 'Monterrey' 'Felipe Carrillo' 'Licenciado Gustavo Díaz Ordaz'\n",
      " 'Torreon International' 'Mexico Intl' 'Cozumel International Airport'\n",
      " 'Mariano Escobedo International' 'Ponciano Arriaga Intl Airport'\n",
      " 'Mexico City' 'Alizal Airport' 'General Guadalupe Victoria Int'\n",
      " 'Culiacan, Sinaloa Mexico' 'Tijuana' 'Atizapan de Zaragoza'\n",
      " 'Airdrome Jorge Efrain' 'Cabo San Lucas Airport'\n",
      " 'Abraham Gonzales Intl Airport' 'Mexico City International Airp'\n",
      " \"Los Mochis Int'l\" 'Licenciado Benito Juarez Inter'\n",
      " 'Tapachula International Airpor' 'Tijuana International Airport'] \n",
      "\n",
      "Unique values in column 'Injury.Severity','\n",
      "': ['Incident' 'Fatal(1)' 'Fatal(3)' 'Non-Fatal' 'Fatal(2)' 'Fatal(8)'\n",
      " 'Fatal(14)' 'Fatal(9)' 'Fatal(4)' 'Fatal(18)' 'Fatal(5)' 'Fatal(6)'\n",
      " 'Fatal(19)' 'Fatal(7)' 'Unavailable' 'Fatal' nan] \n",
      "\n",
      "Unique values in column 'Aircraft.damage','\n",
      "': ['Minor' nan 'Destroyed' 'Substantial' 'Unknown'] \n",
      "\n",
      "Unique values in column 'Aircraft.Category','\n",
      "': [nan 'Airplane' 'Helicopter' 'Unknown'] \n",
      "\n",
      "Unique values in column 'Registration.Number','\n",
      "': ['N701AA' 'N712PC' 'N7635M' 'N7077Y' 'N1003N' 'N2484B' 'N313DF' 'N4367K'\n",
      " 'N92535' 'N4134W' 'N79GH' 'N25FP' 'N52835' 'N234CM' 'N2521X' 'N5039M'\n",
      " 'N6650E' 'N23739' 'N3330W' 'N22SJ' nan 'N1992J' 'N957R' 'N4506X' 'N166DP'\n",
      " 'N527DA' 'N621BP' 'N8676D' 'N1281B' 'N6879J' 'N32RG' 'N2160G' 'N71RJ'\n",
      " 'N720EM' 'N82362' 'N2978Y' 'N2455S' 'N3283P' 'N37267' 'N4577R' 'N92243'\n",
      " 'N8723M' 'N75050' 'N5968F' 'N9279C' 'N1121F' 'N2664R' 'N20643' 'N64CC'\n",
      " 'N123SJ' 'N92755' 'N3334G' 'N912FJ' 'N936ML' 'N269WP' 'N1963U' 'N491SH'\n",
      " 'N806DH' 'N715MH' 'N41CZ' 'N23MB' 'N70685' 'N7026Y' 'N403FW' 'N1647J'\n",
      " 'N302WB' 'N9223X' 'N6763V' 'N61576' 'N2144C' 'N3140U' 'N67157' 'N5146C'\n",
      " 'N444TW' 'N25802' 'N5603B' 'XC-JCD' 'N774AM' 'N167DD' 'N6278T' 'N199US'\n",
      " 'XB-KPB' 'N7560Q' 'XB-KWG' 'XC-HAQ' 'XB-KPF' 'N200JL' 'XC-VMC' 'XC-LGD'\n",
      " 'XB-AWZ' 'XB-RYT' 'XC-DES' 'XC-MIN' 'XA-MAF' 'XB-CUC' 'XA-HSH' 'N53DJ'\n",
      " 'XB-CGU' 'XA-TUE' 'XA-HSI' 'XA-TWK' 'XC-BAM' 'XB-NVB' 'XB-KYY' 'N91HV'\n",
      " 'XA-TKY' 'N212DB' 'XA-IUR' 'XA-UHY' 'XB-GHO' 'N69DJ' 'N5894F' 'XC-UHM'\n",
      " 'XA-JMB' 'XC-PFB' 'N6YY' 'N92201' 'XA-ICL' 'XA-UQH' 'XC-SSP' 'XA-JOY'\n",
      " 'N345MC' 'XB-JJE' 'XB-EZY' 'YS175P' 'N44418' 'XC-AAF' 'XCLMV' 'N371HP'\n",
      " 'N207JA' 'N6241H' 'N173AT' 'XB-MYI' 'XA-TXM' 'XA-UKR' 'N137UP' 'XC-ALM'\n",
      " 'XB-ZAX' 'N265TW' 'XA-UKP' 'XA-UTE' 'XC-VER' 'XB-GYB' 'N73444' 'XA-UQP'\n",
      " 'XA-UNM' 'XB-GRG' 'C-FIWJ' 'XA-VLD' 'XA-ULU' 'N565AC' 'N13DK' 'N531RR'\n",
      " 'XA-UNY' 'XA-UQA' 'XA-CSJ' 'N176AA' 'XA-UIL' 'N995AN' 'XB-MRG' 'F-GZNO'\n",
      " 'XB-FHP' 'XC-PEP' 'N65SE' 'N116DC' 'XA-VMC' 'XA-GAH' 'XB-NWL' 'XA-AAM'\n",
      " 'XB-LJK' 'XB-MUM' 'N368AR' 'XB-MWZ' 'XB-EXZ' 'XA-MAI' 'XA-UQX' 'XB-DLL'\n",
      " 'XC-TIJ' 'XB-FBN' 'XB-HRG' 'C-GHLV' 'HP1910DAE' 'N70020' 'N89313'\n",
      " 'XA-UZW' 'XA-BAV' 'UNKNOWN' 'XB-OSS' 'XB-YEI' 'XB-OHG' 'N802WA' 'XB-DVX'\n",
      " 'XA-MRC' 'XB-OVB' 'XA-GAL' 'XB-FMA' 'N337PJ' 'N535VL' 'N520AM' 'XB-KQF'\n",
      " 'XB-NVG' 'XA-VOW' 'N8388Z' 'XB-ODX' 'XB-FRC' 'XB-ILM' 'XB-NGU' 'XA-ADV'\n",
      " 'XA-BON' 'UNREG' 'XB-KEJ' 'XB-OWS' 'N601VH' 'XB-OYJ' 'XB-HYS' 'XB-GBA'\n",
      " 'XB-PNL' 'XB-FZN' 'XB-TOP' 'XB-GIL' 'XB-LED' 'XB-SIG' 'XB-JZF' 'XA-VBD'\n",
      " 'XA-TWN' 'N687DL' 'N528VL' 'XB-KQV' 'XB-EMO' 'N379DA' 'N250NN' 'XB-VOO'\n",
      " 'N782AM' 'XA-SDU' 'XB-ZOZ' 'N526VL' 'XB-PWE' 'XB-PPF' 'XA-CAO' 'XA-MCG'\n",
      " 'XA-GAI' 'XA-FTG' 'Unknown' 'N806NN' 'XB-LVT' 'N770SK' 'XB-OKQ' 'XB-QOX'\n",
      " 'N6706Q' 'N24YP' 'HP-1526CMP' 'XB-NQD' 'N275JP' 'N141GP' 'N735GX'\n",
      " 'XB-LDX' 'XA-VCZ' 'XB-JEF' 'N640WA' 'B-LJE' 'XA-AMM' 'XB-MQA' 'XB-HSW'\n",
      " 'XA-UPC' 'XB-AUQ' 'C-GBQA' 'XB-WIN' 'FG-ZNC' 'N119AA' 'N15349' 'N1206G'\n",
      " 'F-GSQI' 'N333WW' 'N36272' 'XB-ITG' 'N55JX' 'XB-RQE' 'XB-JXK' 'N354NB'\n",
      " 'N961UW' 'N426EM' 'XA-VIJ' 'N66CG' 'XA-VIK' 'XA-VIN' 'N3577D' 'N28DF'\n",
      " 'XB-NGT'] \n",
      "\n",
      "Unique values in column 'Make','\n",
      "': ['Boeing' 'Cessna' 'Piper' 'Mcdonnell Douglas' 'Beech' 'Learjet'\n",
      " 'Gulfstream' 'Bruce' 'Aero Commander' 'Bell' 'Aerospatiale' 'Douglas'\n",
      " 'Rockwell' 'Fokker' 'British Aerospace' 'Saab-scania Ab (saab)' 'Let'\n",
      " 'Grandman' 'Bellanca' 'Grumman' 'Gates Learjet' 'Raytheon Corporate Jets'\n",
      " 'Mooney' 'Garlick' 'Lancair' 'Twin Commander Acft. Corp.'\n",
      " 'Israel Aircraft Industries' 'Schweizer' 'Sabreliner Corp.'\n",
      " 'North American' 'MCDONNELL DOUGLAS' 'CESSNA' 'BEECH' 'LEARJET' 'BELL'\n",
      " 'EUROCOPTER' 'BOEING' 'AIRBUS' 'PIPER' 'ROCKWELL' 'AGUSTA' 'LEARJET INC'\n",
      " 'AMERICAN CHAMPION' 'BRITISH AEROSPACE' 'GATES LEARJET'\n",
      " 'M7 AEROSPACE LLC' 'ENSTROM' 'ROBINSON HELICOPTER COMPANY'\n",
      " 'EXTRA FLUGZEUGBAU GMBH' 'ROBINSON' 'MD HELICOPTER' 'CHAMPION' 'EMBRAER'\n",
      " 'EMBRAER S A' 'COLUMBIA' 'LAVIA ARGENTINA S.A.' 'AIR TRACTOR' 'RANS'\n",
      " 'Canadair' 'Airbus' 'LAVIA ARGENTINA' 'Embraer' 'BOMBARDIER' 'EMBRAER SA'\n",
      " 'CANADAIR' 'M7 Aerospace' 'AGUSTA SPA' 'PRECISION HELICOPTERS LLC' 'VANS'\n",
      " 'SMITH' 'CIRRUS'] \n",
      "\n",
      "Unique values in column 'Model','\n",
      "': ['727-200B' '707-323B' '175' 'PA-30' 'DC-10-15' '441' '182' 'PA46' '182N'\n",
      " 'PA28' 'PA 32RT-300T' 'A33 A' '177RG' '24B' 'P206' 'BE-24' '58'\n",
      " 'PA-32-260' '402B' '680 T' 'T188C' 'DC-8-63' 'PA-34-200' 'PA-28-235'\n",
      " '727-232' '206' 'RV-6' '680F' '180G' 'PA-32R-300' 'AEROSTAR 601P' '212'\n",
      " 'PA-18' 'AS355F' '210' '208B' 'PA-23-160' 'T310R' 'PA-28' '550' 'DC9-14'\n",
      " '23' 'PA-28-181' 'B212' '180' '1121B' '412HP' '24' 'F-100' '737-524'\n",
      " 'UH1-B' 'DC-9-31' '182S' '414' '404' '206L4' 'V35' '412' 'JETSTREAM 3201'\n",
      " 'TU-206F' '320E' 'T210N' 'MD-82' '340B' 'TU206G' '410 UVP-E' 'DC-8' '25B'\n",
      " '412EP' 'COZY' '17-30A' '430' 'DC 9-32' '182M' '407' 'HU-16' '35A'\n",
      " 'PA-28-140' '690' 'Hawker 125' '206B' 'PA-46' 'M20C' 'OH58A' 'MD-11'\n",
      " '180K' 'IV-P' '840' 'UH-1B' 'DC-9-14' 'AC-685' 'PA-32RT-300' '685'\n",
      " 'Westwind 1124' '152' 'UH-1H' '150' '269D' '182C' 'B767-200' '35'\n",
      " 'PA-46-310P' 'NA-265T39' '24F' '47G' 'T39A' 'BE-36TC' '737-200' '777-2Q8'\n",
      " '800A' 'DC-9-15' '421B' '421' '402' '310' '200' '45' 'Lear 23' 'AS350B2'\n",
      " '737' '340' 'A36' 'A300B4-203' '208' 'PA31T' 'OH-58' 'D55' '501' 'PA-31P'\n",
      " '210G' 'AS332L' '695' '214' 'A109' '25' nan 'PA-31-325' '8KCAB' '600N'\n",
      " 'King Air' 'PA-32R-301T' '182R' 'T210F' 'HS 125 700A' 'A300' 'AW109'\n",
      " 'PA31' '25D' 'SA226 - TC' '31' 'DC 9 82(MD-82)' '60' '280' 'A320'\n",
      " 'R44 II' 'EA 300/L' 'R44' '757-223' 'A321' '172' '777' 'PA25' '369'\n",
      " 'P210N' 'ERJ190' 'TU206' 'T210' 'U206' '369HS' '767' '757' 'A319 115'\n",
      " 'ERJ170-200LR' '47' 'PA-25' 'LC41-550FG' 'DC9' 'PA-25-235' 'A330' 'AT301'\n",
      " 'A321-271N' '210 5' '150M' 'T206H' 'S12' 'CL 600 2B16' 'B36' 'AT400'\n",
      " '401' '787-800' '650' 'PA 25-235' 'CL600 2C10' 'EMB-550' '787-8' 'CL600'\n",
      " 'SA-227' 'PA-31-350' '747' '188' 'PA28R' 'A119' 'C90' '737-824' 'T206'\n",
      " '95-B55' 'RV-6A' 'A319' 'E190' 'C90A' 'SR22'] \n",
      "\n",
      "Unique values in column 'Amateur.Built','\n",
      "': ['No' 'Yes'] \n",
      "\n",
      "Unique values in column 'Number.of.Engines','\n",
      "': [ 3.  4.  1.  2.  0. nan] \n",
      "\n",
      "Unique values in column 'Engine.Type','\n",
      "': ['Turbo Jet' 'Reciprocating' 'Unknown' 'Turbo Prop' 'Turbo Fan' nan\n",
      " 'Turbo Shaft' 'Geared Turbofan'] \n",
      "\n",
      "Unique values in column 'FAR.Description','\n",
      "': [nan 'Part 121: Air Carrier' 'Part 91: General Aviation'\n",
      " 'Non-U.S., Commercial' 'Part 129: Foreign' 'Non-U.S., Non-Commercial'\n",
      " 'Part 135: Air Taxi & Commuter' 'NUSN' 'NUSC' '121' '135' 'UNK' '091'\n",
      " '129' 'ARMF'] \n",
      "\n",
      "Unique values in column 'Schedule','\n",
      "': ['SCHD' 'NSCH' nan 'UNK'] \n",
      "\n",
      "Unique values in column 'Purpose.of.flight','\n",
      "': ['Unknown' 'Personal' 'Public Aircraft' 'Business' 'Ferry'\n",
      " 'Aerial Observation' 'Executive/corporate' 'Positioning' nan\n",
      " 'Instructional' 'Firefighting' 'Public Aircraft - State'\n",
      " 'Public Aircraft - Federal' 'Other Work Use' 'Air Race show'\n",
      " 'Aerial Application'] \n",
      "\n",
      "Unique values in column 'Air.carrier','\n",
      "': [nan 'Aero Mexico' 'John Harris' 'USA JET AIRLINES INC'\n",
      " 'Volare Air Charter' 'Guillermo Gurrion Matias'\n",
      " 'Goberno Del Estado De Baja California' 'Government of Tlaxcala Mexico'\n",
      " 'Rajet Aeroservices' 'Comision Nacional de Agua'\n",
      " 'Servicio Geologico Mexicano' 'Magnicharter' 'Heliservicio Campeche'\n",
      " 'MCCREERY AVIATION CO INC' 'Aero Union' 'SERVICIOUS AEREOS MILENIO'\n",
      " 'Gobierno del Estado de Sinaloa' 'Global Airlines'\n",
      " 'Fuerza Aerea Mexicana' 'Pilot' 'ASESA' 'Gobierno del Estado de Veracruz'\n",
      " 'Aeromexico' 'LAZANO ADVENTURES LLC' 'Oaxaca State Government'\n",
      " 'AIRTRAN AIRWAYS INC' 'Aeroservicios Guerrero S.A. de C. V.'\n",
      " 'United Parcel Service' 'Magnicharters' 'EVERTS AIR FUEL' 'Westjet'\n",
      " 'Volaris' 'Aéreo Servicios Especializados S. A. de C. V.'\n",
      " 'American Airlines' 'Air France' 'Aviation M2 Cozumel LLC'\n",
      " 'City of Tijuana' 'Air Canada' 'DHL Aero Expreso SA'\n",
      " 'UNITED AIRLINES INC' 'Grupo Aero Monterrey S.A. de C.V.'\n",
      " 'ABC Aerolineas' 'Grupo Aero Monterrey SA de CV' 'UNKNOWN'\n",
      " 'World Atlantic Leasing Llc' 'Fumigaciones el Puma S.A. de C.V.'\n",
      " 'AeroMexico' 'Consecionaria Vuela Compania de Aviacion'\n",
      " 'Escuela de Aviación y Adiestramiento S.A. de C.V' 'Ejido el Mezquital'\n",
      " 'Jorge Ivan Joya de la Cruz'\n",
      " 'Servicios Aereos del Altiplano S.A. de C.V.' 'Mr. Alvin Cedric Miller'\n",
      " 'Aviacion Integral Regional SC' 'Norma Alicia Echavarria Ardizoni'\n",
      " 'Aero Fumigaciones de Campo S.A. de C.V.' 'Emilla Horta Vargas'\n",
      " 'Corporativo Gilga S. C.' 'Muricio de Leon Sachez'\n",
      " 'Sistemas de Inteligencia Geografica Aplicados S.C'\n",
      " 'Beneficiadora de Metalicos S.A. de C.V.' 'Delta Air Lines'\n",
      " 'Joel Enrique Mendoza Paez' 'AEROPARADISE, S.A. De C.V.' 'Aerolitoral'\n",
      " 'Cessna Finance Export Corp' 'Delta Airlines' 'Wells Fargo Trust CO NA'\n",
      " 'Campania Panamena de Avicion SA' 'TRN Aviation LLC'\n",
      " 'Aerovias de México S.A. de C.V.'\n",
      " 'Aerolineas Chihuahua al Pacifico S.A. de C.V.'\n",
      " 'Artemis Aircraft, Air France' 'United Airlines' 'Paramount'\n",
      " 'VIVA Aerobus' 'POSADA RAUL IGNACION' 'Viva Aerobus'] \n",
      "\n",
      "Unique values in column 'Total.Fatal.Injuries','\n",
      "': [ 0.  1.  3. nan  2.  8. 14.  9.  4. 18.  5.  6. 19.  7.] \n",
      "\n",
      "Unique values in column 'Total.Serious.Injuries','\n",
      "': [ 0. nan  4.  1.  3.  2.  5.  6. 10. 14. 26.] \n",
      "\n",
      "Unique values in column 'Total.Minor.Injuries','\n",
      "': [ 0.  3.  2. nan  1.  4.  5. 10. 12.  7. 16.] \n",
      "\n",
      "Unique values in column 'Total.Uninjured','\n",
      "': [152. 131.   0.  nan   1.   2.   3.   5.  73.   4.  40.  51. 108.   7.\n",
      "  99.  27.   6.   9.  80. 193. 138. 109. 403. 112.  13. 130. 139. 100.\n",
      " 150. 146.  38.  48. 115.  60. 166.  52.  12. 160.] \n",
      "\n",
      "Unique values in column 'Weather.Condition','\n",
      "': ['VMC' 'UNK' 'IMC' nan 'Unk'] \n",
      "\n",
      "Unique values in column 'Report.Status','\n",
      "': ['Probable Cause' 'Foreign' nan\n",
      " 'Not Required. Investigation is being conducted by the DGAC, Mexico.'\n",
      " '<br /><br />'] \n",
      "\n",
      "Unique values in column 'Publication.Date','\n",
      "': [nan '07-02-1995' '07-10-1988' '06-02-1995' '05-08-1996' '21-10-1992'\n",
      " '23-12-1992' '19-03-1993' '16-03-1995' '30-09-1993' '16-09-1993'\n",
      " '05-05-1994' '24-01-1994' '06-09-1994' '22-12-1994' '10-01-1995'\n",
      " '11-05-1995' '19-07-1995' '27-10-1995' '01-03-1996' '13-11-1995'\n",
      " '20-08-1996' '30-11-1995' '06-12-1995' '26-02-1996' '22-05-1996'\n",
      " '31-01-1997' '13-03-1997' '28-02-1997' '11-06-1997' '29-05-1997'\n",
      " '04-08-1997' '31-10-1997' '07-11-1997' '14-04-1998' '09-12-1998'\n",
      " '10-05-1999' '29-09-2000' '24-08-2000' '14-12-2000' '01-06-2001'\n",
      " '10-07-2001' '04-03-2008' '24-01-2002' '04-12-2001' '18-06-2002'\n",
      " '02-12-2002' '22-08-2003' '06-07-2004' '22-07-2004' '31-12-2004'\n",
      " '24-03-2005' '09-03-2005' '17-05-2005' '21-07-2005' '12-09-2005'\n",
      " '04-10-2005' '24-10-2005' '11-01-2006' '14-04-2006' '13-04-2006'\n",
      " '07-06-2006' '13-07-2006' '25-07-2006' '27-09-2006' '25-09-2006'\n",
      " '18-01-2007' '28-03-2007' '15-05-2007' '21-06-2007' '16-07-2007'\n",
      " '30-07-2007' '27-11-2007' '23-09-2007' '06-11-2007' '08-01-2008'\n",
      " '25-09-2020' '03-11-2020' '26-09-2020' '09-05-2022' '11-07-2022'\n",
      " '13-09-2022' '14-06-2022' '05-10-2022' '14-09-2022' '25-10-2022'] \n",
      "\n"
     ]
    }
   ],
   "source": [
    "# check for unique values in each column\n",
    "\n",
    "for column in df1:\n",
    "  unique_values = df1[column].unique()\n",
    "  print(f\"Unique values in column '{column}','\\n': {unique_values}\",'\\n')"
   ]
  },
  {
   "cell_type": "code",
   "execution_count": 180,
   "id": "8dab8a05-c94c-4f4c-8bfe-d31f3a275cd3",
   "metadata": {},
   "outputs": [
    {
     "data": {
      "text/plain": [
       "Index(['Event.Id', 'Investigation.Type', 'Accident.Number', 'Event.Date',\n",
       "       'Location', 'Country', 'Latitude', 'Longitude', 'Airport.Code',\n",
       "       'Airport.Name', 'Injury.Severity', 'Aircraft.damage',\n",
       "       'Aircraft.Category', 'Registration.Number', 'Make', 'Model',\n",
       "       'Amateur.Built', 'Number.of.Engines', 'Engine.Type', 'FAR.Description',\n",
       "       'Schedule', 'Purpose.of.flight', 'Air.carrier', 'Total.Fatal.Injuries',\n",
       "       'Total.Serious.Injuries', 'Total.Minor.Injuries', 'Total.Uninjured',\n",
       "       'Weather.Condition', 'Broad.phase.of.flight', 'Report.Status',\n",
       "       'Publication.Date'],\n",
       "      dtype='object')"
      ]
     },
     "execution_count": 180,
     "metadata": {},
     "output_type": "execute_result"
    }
   ],
   "source": [
    "#checking the columns\n",
    "df1.columns"
   ]
  },
  {
   "cell_type": "code",
   "execution_count": 182,
   "id": "f910242e-13c4-4f87-9eac-f0aebab0be1d",
   "metadata": {},
   "outputs": [],
   "source": [
    "df1.columns = df1.columns.str.lower()"
   ]
  },
  {
   "cell_type": "code",
   "execution_count": 184,
   "id": "32d3cb10-e4ef-49d1-9c7d-8afc49f7a915",
   "metadata": {},
   "outputs": [
    {
     "data": {
      "text/plain": [
       "Index(['event.id', 'investigation.type', 'accident.number', 'event.date',\n",
       "       'location', 'country', 'latitude', 'longitude', 'airport.code',\n",
       "       'airport.name', 'injury.severity', 'aircraft.damage',\n",
       "       'aircraft.category', 'registration.number', 'make', 'model',\n",
       "       'amateur.built', 'number.of.engines', 'engine.type', 'far.description',\n",
       "       'schedule', 'purpose.of.flight', 'air.carrier', 'total.fatal.injuries',\n",
       "       'total.serious.injuries', 'total.minor.injuries', 'total.uninjured',\n",
       "       'weather.condition', 'broad.phase.of.flight', 'report.status',\n",
       "       'publication.date'],\n",
       "      dtype='object')"
      ]
     },
     "execution_count": 184,
     "metadata": {},
     "output_type": "execute_result"
    }
   ],
   "source": [
    "df1.columns"
   ]
  },
  {
   "cell_type": "code",
   "execution_count": 124,
   "id": "030abe70-738a-4c3e-b481-9dba517c251a",
   "metadata": {},
   "outputs": [
    {
     "name": "stderr",
     "output_type": "stream",
     "text": [
      "C:\\Users\\ADMIN\\AppData\\Local\\Temp\\ipykernel_4580\\3615458373.py:2: SettingWithCopyWarning: \n",
      "A value is trying to be set on a copy of a slice from a DataFrame\n",
      "\n",
      "See the caveats in the documentation: https://pandas.pydata.org/pandas-docs/stable/user_guide/indexing.html#returning-a-view-versus-a-copy\n",
      "  df1['number.of.engines'].fillna(median_engines, inplace=True)\n"
     ]
    }
   ],
   "source": [
    "#filling null values  witnh median in number of engines\n",
    "df1['number.of.engines'].fillna(median_engines, inplace=True)"
   ]
  },
  {
   "cell_type": "code",
   "execution_count": 128,
   "id": "b90fb5d7-a105-443a-bf5e-3cc7f5359a99",
   "metadata": {},
   "outputs": [
    {
     "data": {
      "text/plain": [
       "11207    3.0\n",
       "16837    4.0\n",
       "16866    1.0\n",
       "17578    2.0\n",
       "19110    1.0\n",
       "        ... \n",
       "87880    1.0\n",
       "87909    2.0\n",
       "88104    1.0\n",
       "88136    2.0\n",
       "88603    1.0\n",
       "Name: number.of.engines, Length: 358, dtype: float64"
      ]
     },
     "execution_count": 128,
     "metadata": {},
     "output_type": "execute_result"
    }
   ],
   "source": [
    "df1['number.of.engines']"
   ]
  },
  {
   "cell_type": "code",
   "execution_count": 186,
   "id": "06836efb-4f0f-4f34-9278-dd8a40101eea",
   "metadata": {},
   "outputs": [
    {
     "data": {
      "text/plain": [
       "0.4478114478114478"
      ]
     },
     "execution_count": 186,
     "metadata": {},
     "output_type": "execute_result"
    }
   ],
   "source": [
    "\n",
    "mean_total_serious_injuries = df1['total.serious.injuries'].mean()\n",
    "mean_total_serious_injuries"
   ]
  },
  {
   "cell_type": "code",
   "execution_count": 188,
   "id": "ba03fdcc-8e3a-4bf8-be34-7aa047c5bac4",
   "metadata": {},
   "outputs": [
    {
     "name": "stderr",
     "output_type": "stream",
     "text": [
      "C:\\Users\\ADMIN\\AppData\\Local\\Temp\\ipykernel_4580\\2471531496.py:1: FutureWarning: A value is trying to be set on a copy of a DataFrame or Series through chained assignment using an inplace method.\n",
      "The behavior will change in pandas 3.0. This inplace method will never work because the intermediate object on which we are setting values always behaves as a copy.\n",
      "\n",
      "For example, when doing 'df[col].method(value, inplace=True)', try using 'df.method({col: value}, inplace=True)' or df[col] = df[col].method(value) instead, to perform the operation inplace on the original object.\n",
      "\n",
      "\n",
      "  df1['total.serious.injuries'].fillna(mean_total_serious_injuries, inplace=True)\n",
      "C:\\Users\\ADMIN\\AppData\\Local\\Temp\\ipykernel_4580\\2471531496.py:1: SettingWithCopyWarning: \n",
      "A value is trying to be set on a copy of a slice from a DataFrame\n",
      "\n",
      "See the caveats in the documentation: https://pandas.pydata.org/pandas-docs/stable/user_guide/indexing.html#returning-a-view-versus-a-copy\n",
      "  df1['total.serious.injuries'].fillna(mean_total_serious_injuries, inplace=True)\n"
     ]
    }
   ],
   "source": [
    "df1['total.serious.injuries'].fillna(mean_total_serious_injuries, inplace=True)"
   ]
  },
  {
   "cell_type": "code",
   "execution_count": 190,
   "id": "68be71d1-5a03-447f-bb59-2ea245f5ca0e",
   "metadata": {},
   "outputs": [
    {
     "data": {
      "text/plain": [
       "11207    0.000000\n",
       "16837    0.447811\n",
       "16866    0.000000\n",
       "17578    0.000000\n",
       "19110    0.447811\n",
       "           ...   \n",
       "87880    0.000000\n",
       "87909    0.000000\n",
       "88104    0.000000\n",
       "88136    0.000000\n",
       "88603    0.000000\n",
       "Name: total.serious.injuries, Length: 358, dtype: float64"
      ]
     },
     "execution_count": 190,
     "metadata": {},
     "output_type": "execute_result"
    }
   ],
   "source": [
    "df1['total.serious.injuries']"
   ]
  },
  {
   "cell_type": "code",
   "execution_count": 192,
   "id": "9338cecb-e7d5-4fe6-91a5-d91d2ab0dbca",
   "metadata": {},
   "outputs": [
    {
     "name": "stderr",
     "output_type": "stream",
     "text": [
      "C:\\Users\\ADMIN\\AppData\\Local\\Temp\\ipykernel_4580\\3210996935.py:1: SettingWithCopyWarning: \n",
      "A value is trying to be set on a copy of a slice from a DataFrame\n",
      "\n",
      "See the caveats in the documentation: https://pandas.pydata.org/pandas-docs/stable/user_guide/indexing.html#returning-a-view-versus-a-copy\n",
      "  df1['total.serious.injuries'].replace(0,mean_total_serious_injuries,inplace=True)\n"
     ]
    }
   ],
   "source": [
    "df1['total.serious.injuries'].replace(0,mean_total_serious_injuries,inplace=True)"
   ]
  },
  {
   "cell_type": "code",
   "execution_count": 142,
   "id": "a1c68bf1-e218-4e9f-8080-6014ab45f292",
   "metadata": {},
   "outputs": [
    {
     "data": {
      "text/plain": [
       "11207    0.447811\n",
       "16837    0.447811\n",
       "16866    0.447811\n",
       "17578    0.447811\n",
       "19110    0.447811\n",
       "           ...   \n",
       "87880    0.447811\n",
       "87909    0.447811\n",
       "88104    0.447811\n",
       "88136    0.447811\n",
       "88603    0.447811\n",
       "Name: total.serious.injuries, Length: 358, dtype: float64"
      ]
     },
     "execution_count": 142,
     "metadata": {},
     "output_type": "execute_result"
    }
   ],
   "source": [
    "df1['total.serious.injuries']"
   ]
  },
  {
   "cell_type": "code",
   "execution_count": 144,
   "id": "753e2b26-bbba-452a-97a8-e9f3a6a69d0b",
   "metadata": {},
   "outputs": [
    {
     "data": {
      "text/plain": [
       "11.302631578947368"
      ]
     },
     "execution_count": 144,
     "metadata": {},
     "output_type": "execute_result"
    }
   ],
   "source": [
    "total_uninjured_mean=df1['total.uninjured'].mean()\n",
    "total_uninjured_mean"
   ]
  },
  {
   "cell_type": "code",
   "execution_count": 146,
   "id": "a88bf61d-684c-4f4f-ab54-3f9ee7023824",
   "metadata": {
    "scrolled": true
   },
   "outputs": [
    {
     "name": "stderr",
     "output_type": "stream",
     "text": [
      "C:\\Users\\ADMIN\\AppData\\Local\\Temp\\ipykernel_4580\\1179951135.py:1: FutureWarning: A value is trying to be set on a copy of a DataFrame or Series through chained assignment using an inplace method.\n",
      "The behavior will change in pandas 3.0. This inplace method will never work because the intermediate object on which we are setting values always behaves as a copy.\n",
      "\n",
      "For example, when doing 'df[col].method(value, inplace=True)', try using 'df.method({col: value}, inplace=True)' or df[col] = df[col].method(value) instead, to perform the operation inplace on the original object.\n",
      "\n",
      "\n",
      "  df1['total.uninjured'].fillna(total_uninjured_mean,inplace=True)\n",
      "C:\\Users\\ADMIN\\AppData\\Local\\Temp\\ipykernel_4580\\1179951135.py:1: SettingWithCopyWarning: \n",
      "A value is trying to be set on a copy of a slice from a DataFrame\n",
      "\n",
      "See the caveats in the documentation: https://pandas.pydata.org/pandas-docs/stable/user_guide/indexing.html#returning-a-view-versus-a-copy\n",
      "  df1['total.uninjured'].fillna(total_uninjured_mean,inplace=True)\n"
     ]
    },
    {
     "data": {
      "text/plain": [
       "11207    152.000000\n",
       "16837    131.000000\n",
       "16866      0.000000\n",
       "17578      0.000000\n",
       "19110     11.302632\n",
       "            ...    \n",
       "87880      0.000000\n",
       "87909      0.000000\n",
       "88104      5.000000\n",
       "88136      0.000000\n",
       "88603      0.000000\n",
       "Name: total.uninjured, Length: 358, dtype: float64"
      ]
     },
     "execution_count": 146,
     "metadata": {},
     "output_type": "execute_result"
    }
   ],
   "source": [
    "df1['total.uninjured'].fillna(total_uninjured_mean,inplace=True)\n",
    "df1['total.uninjured']"
   ]
  },
  {
   "cell_type": "code",
   "execution_count": 152,
   "id": "39db612c-5cfd-438d-b8b3-6539296c60aa",
   "metadata": {
    "scrolled": true
   },
   "outputs": [],
   "source": [
    "df1 = df1.drop(columns='report.status')"
   ]
  },
  {
   "cell_type": "code",
   "execution_count": 154,
   "id": "8a4773eb-a7eb-48ac-b59c-115bddf8a3ad",
   "metadata": {},
   "outputs": [
    {
     "data": {
      "text/plain": [
       "Index(['event.id', 'investigation.type', 'accident.number', 'event.date',\n",
       "       'location', 'country', 'latitude', 'longitude', 'airport.code',\n",
       "       'airport.name', 'injury.severity', 'aircraft.damage',\n",
       "       'aircraft.category', 'registration.number', 'make', 'model',\n",
       "       'amateur.built', 'number.of.engines', 'engine.type', 'far.description',\n",
       "       'schedule', 'purpose.of.flight', 'air.carrier', 'total.fatal.injuries',\n",
       "       'total.serious.injuries', 'total.minor.injuries', 'total.uninjured',\n",
       "       'weather.condition', 'broad.phase.of.flight', 'publication.date'],\n",
       "      dtype='object')"
      ]
     },
     "execution_count": 154,
     "metadata": {},
     "output_type": "execute_result"
    }
   ],
   "source": [
    "df1.columns"
   ]
  },
  {
   "cell_type": "code",
   "execution_count": null,
   "id": "eac5c312-4636-4bd2-a5fe-02a1adcdc7b5",
   "metadata": {},
   "outputs": [],
   "source": []
  },
  {
   "cell_type": "code",
   "execution_count": 196,
   "id": "2b673d5c-901e-4f76-b1b7-606d3077be08",
   "metadata": {},
   "outputs": [
    {
     "data": {
      "text/plain": [
       "Index(['event.id', 'investigation.type', 'accident.number', 'event.date',\n",
       "       'location', 'country', 'latitude', 'longitude', 'airport.code',\n",
       "       'airport.name', 'injury.severity', 'aircraft.damage',\n",
       "       'aircraft.category', 'registration.number', 'make', 'model',\n",
       "       'amateur.built', 'number.of.engines', 'engine.type', 'far.description',\n",
       "       'schedule', 'purpose.of.flight', 'air.carrier', 'total.fatal.injuries',\n",
       "       'total.serious.injuries', 'total.minor.injuries', 'total.uninjured',\n",
       "       'weather.condition', 'broad.phase.of.flight', 'report.status',\n",
       "       'publication.date'],\n",
       "      dtype='object')"
      ]
     },
     "execution_count": 196,
     "metadata": {},
     "output_type": "execute_result"
    }
   ],
   "source": [
    "df1.columns"
   ]
  },
  {
   "cell_type": "code",
   "execution_count": null,
   "id": "d24c6525-61fd-4c48-a91e-07006c5d8d56",
   "metadata": {},
   "outputs": [],
   "source": []
  }
 ],
 "metadata": {
  "kernelspec": {
   "display_name": "Python 3 (ipykernel)",
   "language": "python",
   "name": "python3"
  },
  "language_info": {
   "codemirror_mode": {
    "name": "ipython",
    "version": 3
   },
   "file_extension": ".py",
   "mimetype": "text/x-python",
   "name": "python",
   "nbconvert_exporter": "python",
   "pygments_lexer": "ipython3",
   "version": "3.12.7"
  }
 },
 "nbformat": 4,
 "nbformat_minor": 5
}
